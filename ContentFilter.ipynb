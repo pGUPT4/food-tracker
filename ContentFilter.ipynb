{
 "cells": [
  {
   "cell_type": "code",
   "execution_count": 16,
   "id": "3c8f46d6-deac-4e08-8e31-08bcfec50ea7",
   "metadata": {},
   "outputs": [],
   "source": [
    "import pandas as pd\n",
    "import numpy as np\n",
    "from sklearn.feature_extraction.text import CountVectorizer\n",
    "from sklearn.metrics.pairwise import cosine_similarity\n",
    "\n",
    "df = pd.read_csv('MyFoodData-Nutrition-Facts-SpreadSheet-Release-1-4.csv')"
   ]
  },
  {
   "cell_type": "code",
   "execution_count": 21,
   "id": "ce27395e-237d-4846-a8c3-3d939cea96db",
   "metadata": {},
   "outputs": [],
   "source": [
    "#Data Clean\n",
    "drop_set1 = ['Serving Weight 2 (g)',\n",
    "             'Serving Weight 3 (g)',\n",
    "             'Serving Weight 4 (g)',\n",
    "             'Serving Weight 5 (g)',\n",
    "             'Serving Weight 6 (g)',\n",
    "             'Serving Weight 7 (g)',\n",
    "             'Serving Weight 8 (g)',\n",
    "             'Serving Weight 9 (g)',\n",
    "             'Serving Description 2 (g)',\n",
    "             'Serving Description 3 (g)',\n",
    "             'Serving Description 4 (g)',\n",
    "             'Serving Description 5 (g)',\n",
    "             'Serving Description 6 (g)',\n",
    "             'Serving Description 7 (g)',\n",
    "             'Serving Description 8 (g)',\n",
    "             'Serving Description 9 (g)']"
   ]
  },
  {
   "cell_type": "code",
   "execution_count": 19,
   "id": "f0e96631-e369-4862-ab06-5116de95a1e7",
   "metadata": {},
   "outputs": [],
   "source": [
    "df.drop(drop_set1, inplace = True, axis = 1)"
   ]
  },
  {
   "cell_type": "code",
   "execution_count": 22,
   "id": "daa0c7aa-e436-4575-96e9-36c1174887c4",
   "metadata": {},
   "outputs": [
    {
     "data": {
      "text/plain": [
       "(14164, 101)"
      ]
     },
     "execution_count": 22,
     "metadata": {},
     "output_type": "execute_result"
    }
   ],
   "source": [
    "drop_set2 = ['Saturated Fats (g)',\n",
    "             'Vitamin A, RAE (mcg)',\n",
    "             'Added Sugar (g)',\n",
    "             'Net-Carbs (g)',\n",
    "             'Water (g)',\n",
    "             'Omega 3s (mg)',\n",
    "             'Omega 6s (mg)',\n",
    "             'PRAL score',\n",
    "             'Trans Fatty Acids (g)',\n",
    "             'Soluble Fiber (g)',\n",
    "             'Insoluble Fiber (g)',\n",
    "             'Sucrose (g)',\n",
    "             'Glucose (Dextrose) (g)',\n",
    "             'Fructose (g)',\n",
    "             'Lactose (g)',\n",
    "             'Maltose (g)',\n",
    "             'Galactose (g)',\n",
    "             'Starch (g)',\n",
    "             'Total sugar alcohols (g)',\n",
    "             'Phosphorus, P (mg)',\n",
    "             'Sodium (mg)',\n",
    "             'Zinc, Zn (mg)',\n",
    "             'Copper, Cu (mg)',\n",
    "             'Manganese (mg)',\n",
    "             'Selenium, Se (mcg)',\n",
    "             'Fluoride, F (mcg)']\n",
    "\n",
    "df.shape"
   ]
  },
  {
   "cell_type": "code",
   "execution_count": 23,
   "id": "b0ffc9a3-7418-4925-8dbe-b96b5e825154",
   "metadata": {},
   "outputs": [],
   "source": [
    "df.drop(drop_set2, inplace = True, axis = 1)"
   ]
  },
  {
   "cell_type": "code",
   "execution_count": 24,
   "id": "10f77cbb-4a19-4909-b7e3-eec8c6290a32",
   "metadata": {},
   "outputs": [
    {
     "data": {
      "text/plain": [
       "(14164, 75)"
      ]
     },
     "execution_count": 24,
     "metadata": {},
     "output_type": "execute_result"
    }
   ],
   "source": [
    "df.shape"
   ]
  },
  {
   "cell_type": "code",
   "execution_count": 26,
   "id": "247d5b36-b267-46d6-834e-a7074e69b7ef",
   "metadata": {},
   "outputs": [],
   "source": [
    "drop_set3 = ['Molybdenum (mcg)',\n",
    "             'Chlorine (mg)',\n",
    "             'Thiamin (B1) (mg)',\n",
    "             'Riboflavin (B2) (mg)',\n",
    "             'Niacin (B3) (mg)',\n",
    "             'Pantothenic acid (B5) (mg)',\n",
    "             'Vitamin B6 (mg)',\n",
    "             'Biotin (B7) (mcg)',\n",
    "             'Folate (B9) (mcg)',\n",
    "             'Folic acid (mcg)',\n",
    "             'Food Folate (mcg)',\n",
    "             'Folate DFE (mcg)',\n",
    "             'Choline (mg)',\n",
    "             'Betaine (mg)',\n",
    "             'Retinol (mcg)',\n",
    "             'Carotene, beta (mcg)',\n",
    "             'Carotene, alpha (mcg)',\n",
    "             'Lycopene (mcg)',\n",
    "             'Lutein + Zeaxanthin (mcg)',\n",
    "             'Vitamin D2 (ergocalciferol) (mcg)',\n",
    "             'Vitamin D3 (cholecalciferol) (mcg)',\n",
    "             'Vitamin D (IU) (IU)',\n",
    "             'Vitamin K (mcg)',\n",
    "             'Dihydrophylloquinone (mcg)',\n",
    "             'Menaquinone-4 (mcg)',\n",
    "             'Fatty acids, total monounsaturated (mg)',\n",
    "             'Fatty acids, total polyunsaturated (mg)',\n",
    "             '18:3 n-3 c,c,c (ALA) (mg)',\n",
    "             '20:5 n-3 (EPA) (mg)',\n",
    "             '22:5 n-3 (DPA) (mg)',\n",
    "             '22:6 n-3 (DHA) (mg)',\n",
    "             'Tryptophan (mg)']\n"
   ]
  },
  {
   "cell_type": "code",
   "execution_count": 27,
   "id": "c2fc3291-dbac-4e89-ab4b-5d94faf0edda",
   "metadata": {},
   "outputs": [
    {
     "data": {
      "text/plain": [
       "(14164, 75)"
      ]
     },
     "execution_count": 27,
     "metadata": {},
     "output_type": "execute_result"
    }
   ],
   "source": [
    "df.shape"
   ]
  },
  {
   "cell_type": "code",
   "execution_count": 28,
   "id": "b01857d3-9b87-4048-ae92-0410ceea050d",
   "metadata": {},
   "outputs": [],
   "source": [
    "df.drop(drop_set3, inplace = True, axis = 1)"
   ]
  },
  {
   "cell_type": "code",
   "execution_count": 29,
   "id": "c21c86f4-256c-42fe-948c-0b983a1980a9",
   "metadata": {},
   "outputs": [
    {
     "data": {
      "text/plain": [
       "(14164, 43)"
      ]
     },
     "execution_count": 29,
     "metadata": {},
     "output_type": "execute_result"
    }
   ],
   "source": [
    "df.shape"
   ]
  },
  {
   "cell_type": "code",
   "execution_count": 30,
   "id": "6f8515b0-47e1-440f-8946-97f8220dd5fc",
   "metadata": {},
   "outputs": [
    {
     "data": {
      "text/plain": [
       "(14164, 43)"
      ]
     },
     "execution_count": 30,
     "metadata": {},
     "output_type": "execute_result"
    }
   ],
   "source": [
    "drop_set4 = ['Threonine (mg)',\n",
    "             'Isoleucine (mg)',\n",
    "             'Leucine (mg)',\n",
    "             'Lysine (mg)',\n",
    "             'Methionine (mg)',\n",
    "             'Cystine (mg)',\n",
    "             'Phenylalanine (mg)',\n",
    "             'Tyrosine (mg)',\n",
    "             'Valine (mg)',\n",
    "             'Arginine (mg)',\n",
    "             'Histidine (mg)',\n",
    "             'Alanine (mg)',\n",
    "             'Aspartic acid (mg)',\n",
    "             'Glutamic acid (mg)',\n",
    "             'Glycine (mg)',\n",
    "             'Proline (mg)',\n",
    "             'Serine (mg)',\n",
    "             'Hydroxyproline (mg)',\n",
    "             'Alcohol (g)',\n",
    "             'Caffeine (mg)',\n",
    "             'Theobromine (mg)',\n",
    "             '200 Calorie Weight (g)']\n",
    "\n",
    "df.shape"
   ]
  },
  {
   "cell_type": "code",
   "execution_count": 31,
   "id": "fa78ee33-2431-4dac-a201-c71cdfd38f9c",
   "metadata": {},
   "outputs": [
    {
     "data": {
      "text/html": [
       "<div>\n",
       "<style scoped>\n",
       "    .dataframe tbody tr th:only-of-type {\n",
       "        vertical-align: middle;\n",
       "    }\n",
       "\n",
       "    .dataframe tbody tr th {\n",
       "        vertical-align: top;\n",
       "    }\n",
       "\n",
       "    .dataframe thead th {\n",
       "        text-align: right;\n",
       "    }\n",
       "</style>\n",
       "<table border=\"1\" class=\"dataframe\">\n",
       "  <thead>\n",
       "    <tr style=\"text-align: right;\">\n",
       "      <th></th>\n",
       "      <th>ID</th>\n",
       "      <th>name</th>\n",
       "      <th>Food Group</th>\n",
       "      <th>Calories</th>\n",
       "      <th>Fat (g)</th>\n",
       "      <th>Protein (g)</th>\n",
       "      <th>Carbohydrate (g)</th>\n",
       "      <th>Sugars (g)</th>\n",
       "      <th>Fiber (g)</th>\n",
       "      <th>Cholesterol (mg)</th>\n",
       "      <th>...</th>\n",
       "      <th>Iron, Fe (mg)</th>\n",
       "      <th>Potassium, K (mg)</th>\n",
       "      <th>Magnesium (mg)</th>\n",
       "      <th>Vitamin A, IU (IU)</th>\n",
       "      <th>Vitamin C (mg)</th>\n",
       "      <th>Vitamin B-12 (mcg)</th>\n",
       "      <th>Vitamin D (mcg)</th>\n",
       "      <th>Vitamin E (Alpha-Tocopherol) (mg)</th>\n",
       "      <th>Serving Weight 1 (g)</th>\n",
       "      <th>Serving Description 1 (g)</th>\n",
       "    </tr>\n",
       "  </thead>\n",
       "  <tbody>\n",
       "    <tr>\n",
       "      <th>0</th>\n",
       "      <td>167512</td>\n",
       "      <td>Pillsbury Golden Layer Buttermilk Biscuits Art...</td>\n",
       "      <td>Baked Foods</td>\n",
       "      <td>307.0</td>\n",
       "      <td>13.24</td>\n",
       "      <td>5.88</td>\n",
       "      <td>41.18</td>\n",
       "      <td>5.88</td>\n",
       "      <td>1.2</td>\n",
       "      <td>0.0</td>\n",
       "      <td>...</td>\n",
       "      <td>2.12</td>\n",
       "      <td>NaN</td>\n",
       "      <td>NaN</td>\n",
       "      <td>NaN</td>\n",
       "      <td>NaN</td>\n",
       "      <td>NaN</td>\n",
       "      <td>NaN</td>\n",
       "      <td>NaN</td>\n",
       "      <td>34.0</td>\n",
       "      <td>1 serving</td>\n",
       "    </tr>\n",
       "    <tr>\n",
       "      <th>1</th>\n",
       "      <td>167513</td>\n",
       "      <td>Pillsbury Cinnamon Rolls With Icing Refrigerat...</td>\n",
       "      <td>Baked Foods</td>\n",
       "      <td>330.0</td>\n",
       "      <td>11.27</td>\n",
       "      <td>4.34</td>\n",
       "      <td>53.42</td>\n",
       "      <td>21.34</td>\n",
       "      <td>1.4</td>\n",
       "      <td>0.0</td>\n",
       "      <td>...</td>\n",
       "      <td>1.93</td>\n",
       "      <td>NaN</td>\n",
       "      <td>NaN</td>\n",
       "      <td>1.0</td>\n",
       "      <td>0.1</td>\n",
       "      <td>NaN</td>\n",
       "      <td>NaN</td>\n",
       "      <td>NaN</td>\n",
       "      <td>44.0</td>\n",
       "      <td>1 serving 1 roll with icing</td>\n",
       "    </tr>\n",
       "    <tr>\n",
       "      <th>2</th>\n",
       "      <td>167514</td>\n",
       "      <td>Kraft Foods Shake N Bake Original Recipe Coati...</td>\n",
       "      <td>Baked Foods</td>\n",
       "      <td>377.0</td>\n",
       "      <td>3.70</td>\n",
       "      <td>6.10</td>\n",
       "      <td>79.80</td>\n",
       "      <td>NaN</td>\n",
       "      <td>NaN</td>\n",
       "      <td>NaN</td>\n",
       "      <td>...</td>\n",
       "      <td>NaN</td>\n",
       "      <td>NaN</td>\n",
       "      <td>NaN</td>\n",
       "      <td>NaN</td>\n",
       "      <td>NaN</td>\n",
       "      <td>NaN</td>\n",
       "      <td>NaN</td>\n",
       "      <td>NaN</td>\n",
       "      <td>28.0</td>\n",
       "      <td>1 serving</td>\n",
       "    </tr>\n",
       "    <tr>\n",
       "      <th>3</th>\n",
       "      <td>167515</td>\n",
       "      <td>George Weston Bakeries Thomas English Muffins</td>\n",
       "      <td>Baked Foods</td>\n",
       "      <td>232.0</td>\n",
       "      <td>1.80</td>\n",
       "      <td>8.00</td>\n",
       "      <td>46.00</td>\n",
       "      <td>NaN</td>\n",
       "      <td>NaN</td>\n",
       "      <td>NaN</td>\n",
       "      <td>...</td>\n",
       "      <td>1.40</td>\n",
       "      <td>NaN</td>\n",
       "      <td>NaN</td>\n",
       "      <td>0.0</td>\n",
       "      <td>NaN</td>\n",
       "      <td>NaN</td>\n",
       "      <td>NaN</td>\n",
       "      <td>NaN</td>\n",
       "      <td>57.0</td>\n",
       "      <td>1 serving</td>\n",
       "    </tr>\n",
       "    <tr>\n",
       "      <th>4</th>\n",
       "      <td>167516</td>\n",
       "      <td>Waffles Buttermilk Frozen Ready-To-Heat</td>\n",
       "      <td>Baked Foods</td>\n",
       "      <td>273.0</td>\n",
       "      <td>9.22</td>\n",
       "      <td>6.58</td>\n",
       "      <td>41.05</td>\n",
       "      <td>4.30</td>\n",
       "      <td>2.2</td>\n",
       "      <td>15.0</td>\n",
       "      <td>...</td>\n",
       "      <td>6.04</td>\n",
       "      <td>126.0</td>\n",
       "      <td>19.0</td>\n",
       "      <td>1340.0</td>\n",
       "      <td>0.0</td>\n",
       "      <td>2.86</td>\n",
       "      <td>NaN</td>\n",
       "      <td>0.62</td>\n",
       "      <td>39.0</td>\n",
       "      <td>1 waffle, square</td>\n",
       "    </tr>\n",
       "  </tbody>\n",
       "</table>\n",
       "<p>5 rows × 21 columns</p>\n",
       "</div>"
      ],
      "text/plain": [
       "       ID                                               name   Food Group  \\\n",
       "0  167512  Pillsbury Golden Layer Buttermilk Biscuits Art...  Baked Foods   \n",
       "1  167513  Pillsbury Cinnamon Rolls With Icing Refrigerat...  Baked Foods   \n",
       "2  167514  Kraft Foods Shake N Bake Original Recipe Coati...  Baked Foods   \n",
       "3  167515      George Weston Bakeries Thomas English Muffins  Baked Foods   \n",
       "4  167516            Waffles Buttermilk Frozen Ready-To-Heat  Baked Foods   \n",
       "\n",
       "   Calories  Fat (g)  Protein (g)  Carbohydrate (g)  Sugars (g)  Fiber (g)  \\\n",
       "0     307.0    13.24         5.88             41.18        5.88        1.2   \n",
       "1     330.0    11.27         4.34             53.42       21.34        1.4   \n",
       "2     377.0     3.70         6.10             79.80         NaN        NaN   \n",
       "3     232.0     1.80         8.00             46.00         NaN        NaN   \n",
       "4     273.0     9.22         6.58             41.05        4.30        2.2   \n",
       "\n",
       "   Cholesterol (mg)  ...  Iron, Fe (mg)  Potassium, K (mg)  Magnesium (mg)  \\\n",
       "0               0.0  ...           2.12                NaN             NaN   \n",
       "1               0.0  ...           1.93                NaN             NaN   \n",
       "2               NaN  ...            NaN                NaN             NaN   \n",
       "3               NaN  ...           1.40                NaN             NaN   \n",
       "4              15.0  ...           6.04              126.0            19.0   \n",
       "\n",
       "   Vitamin A, IU (IU)  Vitamin C (mg)  Vitamin B-12 (mcg)  Vitamin D (mcg)  \\\n",
       "0                 NaN             NaN                 NaN              NaN   \n",
       "1                 1.0             0.1                 NaN              NaN   \n",
       "2                 NaN             NaN                 NaN              NaN   \n",
       "3                 0.0             NaN                 NaN              NaN   \n",
       "4              1340.0             0.0                2.86              NaN   \n",
       "\n",
       "   Vitamin E (Alpha-Tocopherol) (mg)  Serving Weight 1 (g)  \\\n",
       "0                                NaN                  34.0   \n",
       "1                                NaN                  44.0   \n",
       "2                                NaN                  28.0   \n",
       "3                                NaN                  57.0   \n",
       "4                               0.62                  39.0   \n",
       "\n",
       "     Serving Description 1 (g)  \n",
       "0                    1 serving  \n",
       "1  1 serving 1 roll with icing  \n",
       "2                    1 serving  \n",
       "3                    1 serving  \n",
       "4             1 waffle, square  \n",
       "\n",
       "[5 rows x 21 columns]"
      ]
     },
     "execution_count": 31,
     "metadata": {},
     "output_type": "execute_result"
    }
   ],
   "source": [
    "df.drop(drop_set4, inplace = True, axis = 1)"
   ]
  },
  {
   "cell_type": "code",
   "execution_count": 33,
   "id": "d9fca602-8786-4bce-8171-bebf49acb9bd",
   "metadata": {},
   "outputs": [
    {
     "data": {
      "text/plain": [
       "['ID',\n",
       " 'name',\n",
       " 'Food Group',\n",
       " 'Calories',\n",
       " 'Fat (g)',\n",
       " 'Protein (g)',\n",
       " 'Carbohydrate (g)',\n",
       " 'Sugars (g)',\n",
       " 'Fiber (g)',\n",
       " 'Cholesterol (mg)',\n",
       " 'Calcium (mg)',\n",
       " 'Iron, Fe (mg)',\n",
       " 'Potassium, K (mg)',\n",
       " 'Magnesium (mg)',\n",
       " 'Vitamin A, IU (IU)',\n",
       " 'Vitamin C (mg)',\n",
       " 'Vitamin B-12 (mcg)',\n",
       " 'Vitamin D (mcg)',\n",
       " 'Vitamin E (Alpha-Tocopherol) (mg)',\n",
       " 'Serving Weight 1 (g)',\n",
       " 'Serving Description 1 (g)']"
      ]
     },
     "execution_count": 33,
     "metadata": {},
     "output_type": "execute_result"
    }
   ],
   "source": [
    "list(df)"
   ]
  },
  {
   "cell_type": "code",
   "execution_count": 35,
   "id": "e739ebfb-c3b9-4b14-afe7-10059c65ed33",
   "metadata": {},
   "outputs": [],
   "source": [
    "drop_set5 = ['Potassium, K (mg)',\n",
    "             'Magnesium (mg)']"
   ]
  },
  {
   "cell_type": "code",
   "execution_count": 36,
   "id": "55f92c6d-e183-49c7-952c-c1a6ea9d5f2a",
   "metadata": {},
   "outputs": [],
   "source": [
    "df.drop(drop_set5, inplace = True, axis = 1)"
   ]
  },
  {
   "cell_type": "code",
   "execution_count": 37,
   "id": "7447a450-828d-460a-bda7-eacc5748c7a5",
   "metadata": {},
   "outputs": [
    {
     "data": {
      "text/plain": [
       "['ID',\n",
       " 'name',\n",
       " 'Food Group',\n",
       " 'Calories',\n",
       " 'Fat (g)',\n",
       " 'Protein (g)',\n",
       " 'Carbohydrate (g)',\n",
       " 'Sugars (g)',\n",
       " 'Fiber (g)',\n",
       " 'Cholesterol (mg)',\n",
       " 'Calcium (mg)',\n",
       " 'Iron, Fe (mg)',\n",
       " 'Vitamin A, IU (IU)',\n",
       " 'Vitamin C (mg)',\n",
       " 'Vitamin B-12 (mcg)',\n",
       " 'Vitamin D (mcg)',\n",
       " 'Vitamin E (Alpha-Tocopherol) (mg)',\n",
       " 'Serving Weight 1 (g)',\n",
       " 'Serving Description 1 (g)']"
      ]
     },
     "execution_count": 37,
     "metadata": {},
     "output_type": "execute_result"
    }
   ],
   "source": [
    "list(df)"
   ]
  },
  {
   "cell_type": "code",
   "execution_count": null,
   "id": "1cb2975f-60b2-4b45-bccb-9eeb80c7f2a5",
   "metadata": {},
   "outputs": [],
   "source": []
  }
 ],
 "metadata": {
  "kernelspec": {
   "display_name": "Python 3 (ipykernel)",
   "language": "python",
   "name": "python3"
  },
  "language_info": {
   "codemirror_mode": {
    "name": "ipython",
    "version": 3
   },
   "file_extension": ".py",
   "mimetype": "text/x-python",
   "name": "python",
   "nbconvert_exporter": "python",
   "pygments_lexer": "ipython3",
   "version": "3.10.10"
  }
 },
 "nbformat": 4,
 "nbformat_minor": 5
}
